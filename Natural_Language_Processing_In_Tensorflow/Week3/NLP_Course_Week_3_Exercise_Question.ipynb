{
  "nbformat": 4,
  "nbformat_minor": 0,
  "metadata": {
    "colab": {
      "name": "NLP Course - Week 3 Exercise Question.ipynb",
      "provenance": [],
      "authorship_tag": "ABX9TyM9HH9Xv7nLpMDn8ZtDSul7",
      "include_colab_link": true
    },
    "kernelspec": {
      "name": "python3",
      "display_name": "Python 3"
    },
    "accelerator": "GPU"
  },
  "cells": [
    {
      "cell_type": "markdown",
      "metadata": {
        "id": "view-in-github",
        "colab_type": "text"
      },
      "source": [
        "<a href=\"https://colab.research.google.com/github/mohdtanweer/TensorFlowSpecialisation/blob/master/Natural_Language_Processing_In_Tensorflow/Week3/NLP_Course_Week_3_Exercise_Question.ipynb\" target=\"_parent\"><img src=\"https://colab.research.google.com/assets/colab-badge.svg\" alt=\"Open In Colab\"/></a>"
      ]
    },
    {
      "cell_type": "code",
      "metadata": {
        "id": "fuV9RzKJUnub",
        "colab_type": "code",
        "colab": {}
      },
      "source": [
        "#@title Licensed under the Apache License, Version 2.0 (the \"License\");\n",
        "# you may not use this file except in compliance with the License.\n",
        "# You may obtain a copy of the License at\n",
        "#\n",
        "# https://www.apache.org/licenses/LICENSE-2.0\n",
        "#\n",
        "# Unless required by applicable law or agreed to in writing, software\n",
        "# distributed under the License is distributed on an \"AS IS\" BASIS,\n",
        "# WITHOUT WARRANTIES OR CONDITIONS OF ANY KIND, either express or implied.\n",
        "# See the License for the specific language governing permissions and\n",
        "# limitations under the License."
      ],
      "execution_count": 0,
      "outputs": []
    },
    {
      "cell_type": "code",
      "metadata": {
        "id": "LkOrRb9GUuzR",
        "colab_type": "code",
        "colab": {}
      },
      "source": [
        "import json\n",
        "import tensorflow as tf\n",
        "import csv\n",
        "import random\n",
        "import numpy as np\n",
        "\n",
        "from tensorflow.keras.preprocessing.text import Tokenizer\n",
        "from tensorflow.keras.preprocessing.sequence import pad_sequences\n",
        "from tensorflow.keras.utils import to_categorical\n",
        "from tensorflow.keras import regularizers\n",
        "\n",
        "\n",
        "embedding_dim = 100\n",
        "max_length = 16\n",
        "trunc_type='post'\n",
        "padding_type='post'\n",
        "oov_tok = \"<OOV>\"\n",
        "training_size=160000\n",
        "test_portion=.1\n",
        "\n",
        "corpus = []\n"
      ],
      "execution_count": 0,
      "outputs": []
    },
    {
      "cell_type": "code",
      "metadata": {
        "id": "jWhj8RbvUwFV",
        "colab_type": "code",
        "colab": {
          "base_uri": "https://localhost:8080/",
          "height": 204
        },
        "outputId": "4d093235-f702-4ec9-f726-4c8149619bc2"
      },
      "source": [
        "# Note that I cleaned the Stanford dataset to remove LATIN1 encoding to make it easier for Python CSV reader\n",
        "# You can do that yourself with:\n",
        "# iconv -f LATIN1 -t UTF8 training.1600000.processed.noemoticon.csv -o training_cleaned.csv\n",
        "# I then hosted it on my site to make it easier to use in this notebook\n",
        "\n",
        "!wget --no-check-certificate \\\n",
        "    https://storage.googleapis.com/laurencemoroney-blog.appspot.com/training_cleaned.csv \\\n",
        "    -O /tmp/training_cleaned.csv\n",
        "\n",
        "num_sentences = 0\n",
        "\n",
        "with open(\"/tmp/training_cleaned.csv\") as csvfile:\n",
        "    reader = csv.reader(csvfile, delimiter=',')\n",
        "    for row in reader:\n",
        "        list_item=[]\n",
        "        list_item.append(row[5])\n",
        "        this_label=row[0]\n",
        "        if this_label=='0':\n",
        "            list_item.append(0)\n",
        "        else:\n",
        "            list_item.append(1)\n",
        "        num_sentences = num_sentences + 1\n",
        "        corpus.append(list_item)\n"
      ],
      "execution_count": 3,
      "outputs": [
        {
          "output_type": "stream",
          "text": [
            "--2020-05-28 22:13:44--  https://storage.googleapis.com/laurencemoroney-blog.appspot.com/training_cleaned.csv\n",
            "Resolving storage.googleapis.com (storage.googleapis.com)... 172.217.218.128, 2a00:1450:4013:c00::80\n",
            "Connecting to storage.googleapis.com (storage.googleapis.com)|172.217.218.128|:443... connected.\n",
            "HTTP request sent, awaiting response... 200 OK\n",
            "Length: 238942690 (228M) [application/octet-stream]\n",
            "Saving to: ‘/tmp/training_cleaned.csv’\n",
            "\n",
            "/tmp/training_clean 100%[===================>] 227.87M   172MB/s    in 1.3s    \n",
            "\n",
            "2020-05-28 22:13:46 (172 MB/s) - ‘/tmp/training_cleaned.csv’ saved [238942690/238942690]\n",
            "\n"
          ],
          "name": "stdout"
        }
      ]
    },
    {
      "cell_type": "code",
      "metadata": {
        "id": "_JeePmBRU3nI",
        "colab_type": "code",
        "colab": {
          "base_uri": "https://localhost:8080/",
          "height": 68
        },
        "outputId": "5af92475-dfc6-45e1-90c6-bce1f89770c6"
      },
      "source": [
        "print(num_sentences)\n",
        "print(len(corpus))\n",
        "print(corpus[1])\n",
        "\n",
        "# Expected Output:\n",
        "# 1600000\n",
        "# 1600000\n",
        "# [\"is upset that he can't update his Facebook by texting it... and might cry as a result  School today also. Blah!\", 0]"
      ],
      "execution_count": 4,
      "outputs": [
        {
          "output_type": "stream",
          "text": [
            "1600000\n",
            "1600000\n",
            "[\"is upset that he can't update his Facebook by texting it... and might cry as a result  School today also. Blah!\", 0]\n"
          ],
          "name": "stdout"
        }
      ]
    },
    {
      "cell_type": "code",
      "metadata": {
        "id": "fFjOPcUcU5T1",
        "colab_type": "code",
        "colab": {}
      },
      "source": [
        "sentences=[]\n",
        "labels=[]\n",
        "random.shuffle(corpus)\n",
        "for x in range(training_size):\n",
        "    sentences.append(corpus[x][0])\n",
        "    labels.append(corpus[x][1])\n",
        "\n",
        "\n",
        "tokenizer = Tokenizer()\n",
        "tokenizer.fit_on_texts(sentences)\n",
        "\n",
        "word_index = tokenizer.word_index\n",
        "vocab_size=len(word_index)\n",
        "\n",
        "sequences = tokenizer.texts_to_sequences(sentences)\n",
        "padded = pad_sequences(sequences, maxlen=max_length, padding=padding_type, truncating=trunc_type)\n",
        "\n",
        "split = int(test_portion * training_size)\n",
        "\n",
        "test_sequences = padded[0:split]\n",
        "training_sequences = padded[split:training_size]\n",
        "test_labels = np.array(labels[0:split])\n",
        "training_labels = np.array(labels[split:training_size])\n",
        "# label_tokenizer = Tokenizer()\n",
        "# label_tokenizer.fit_on_texts(labels)"
      ],
      "execution_count": 0,
      "outputs": []
    },
    {
      "cell_type": "code",
      "metadata": {
        "id": "QgGo0K4IU8RR",
        "colab_type": "code",
        "colab": {
          "base_uri": "https://localhost:8080/",
          "height": 51
        },
        "outputId": "c9906864-2404-4f5d-bb29-eb630cf5c493"
      },
      "source": [
        "print(vocab_size)\n",
        "print(word_index['i'])\n",
        "# Expected Output\n",
        "# 138858\n",
        "# 1"
      ],
      "execution_count": 6,
      "outputs": [
        {
          "output_type": "stream",
          "text": [
            "138443\n",
            "1\n"
          ],
          "name": "stdout"
        }
      ]
    },
    {
      "cell_type": "code",
      "metadata": {
        "id": "HIfjApKRVAut",
        "colab_type": "code",
        "colab": {
          "base_uri": "https://localhost:8080/",
          "height": 204
        },
        "outputId": "8425c325-0c9e-487e-bce6-e2c54f8c0128"
      },
      "source": [
        "# Note this is the 100 dimension version of GloVe from Stanford\n",
        "# I unzipped and hosted it on my site to make this notebook easier\n",
        "!wget --no-check-certificate \\\n",
        "    https://storage.googleapis.com/laurencemoroney-blog.appspot.com/glove.6B.100d.txt \\\n",
        "    -O /tmp/glove.6B.100d.txt\n",
        "embeddings_index = {};\n",
        "with open('/tmp/glove.6B.100d.txt') as f:\n",
        "    for line in f:\n",
        "        values = line.split();\n",
        "        word = values[0];\n",
        "        coefs = np.asarray(values[1:], dtype='float32');\n",
        "        embeddings_index[word] = coefs;\n",
        "\n",
        "embeddings_matrix = np.zeros((vocab_size+1, embedding_dim));\n",
        "for word, i in word_index.items():\n",
        "    embedding_vector = embeddings_index.get(word);\n",
        "    if embedding_vector is not None:\n",
        "        embeddings_matrix[i] = embedding_vector;"
      ],
      "execution_count": 7,
      "outputs": [
        {
          "output_type": "stream",
          "text": [
            "--2020-05-28 22:14:10--  https://storage.googleapis.com/laurencemoroney-blog.appspot.com/glove.6B.100d.txt\n",
            "Resolving storage.googleapis.com (storage.googleapis.com)... 172.217.218.128, 2a00:1450:4013:c04::80\n",
            "Connecting to storage.googleapis.com (storage.googleapis.com)|172.217.218.128|:443... connected.\n",
            "HTTP request sent, awaiting response... 200 OK\n",
            "Length: 347116733 (331M) [text/plain]\n",
            "Saving to: ‘/tmp/glove.6B.100d.txt’\n",
            "\n",
            "/tmp/glove.6B.100d. 100%[===================>] 331.04M   160MB/s    in 2.1s    \n",
            "\n",
            "2020-05-28 22:14:12 (160 MB/s) - ‘/tmp/glove.6B.100d.txt’ saved [347116733/347116733]\n",
            "\n"
          ],
          "name": "stdout"
        }
      ]
    },
    {
      "cell_type": "code",
      "metadata": {
        "id": "d-QwfSCCVFGc",
        "colab_type": "code",
        "colab": {
          "base_uri": "https://localhost:8080/",
          "height": 34
        },
        "outputId": "1064846e-3f2f-4d2e-de22-9d1aabbb4eba"
      },
      "source": [
        "print(len(embeddings_matrix))\n",
        "# Expected Output\n",
        "# 138859"
      ],
      "execution_count": 8,
      "outputs": [
        {
          "output_type": "stream",
          "text": [
            "138444\n"
          ],
          "name": "stdout"
        }
      ]
    },
    {
      "cell_type": "code",
      "metadata": {
        "id": "WlLgMU57VJI8",
        "colab_type": "code",
        "colab": {
          "base_uri": "https://localhost:8080/",
          "height": 1000
        },
        "outputId": "e2f2a495-3536-4da0-90de-fac06ce4011c"
      },
      "source": [
        "model = tf.keras.Sequential([\n",
        "    tf.keras.layers.Embedding(vocab_size+1, embedding_dim, input_length=max_length, weights=[embeddings_matrix], trainable=False),\n",
        "    tf.keras.layers.Dropout(0.2),\n",
        "    tf.keras.layers.Conv1D(64, 5, activation='relu'),\n",
        "    tf.keras.layers.MaxPooling1D(pool_size=4),\n",
        "    tf.keras.layers.LSTM(64),\n",
        "    tf.keras.layers.Dense(1, activation='sigmoid')\n",
        "])\n",
        "model.compile(loss='binary_crossentropy',optimizer='adam',metrics=['accuracy'])\n",
        "model.summary()\n",
        "\n",
        "num_epochs = 50\n",
        "history = model.fit(training_sequences, training_labels, epochs=num_epochs, validation_data=(test_sequences, test_labels), verbose=2)\n",
        "\n",
        "print(\"Training Complete\")\n"
      ],
      "execution_count": 9,
      "outputs": [
        {
          "output_type": "stream",
          "text": [
            "Model: \"sequential\"\n",
            "_________________________________________________________________\n",
            "Layer (type)                 Output Shape              Param #   \n",
            "=================================================================\n",
            "embedding (Embedding)        (None, 16, 100)           13844400  \n",
            "_________________________________________________________________\n",
            "dropout (Dropout)            (None, 16, 100)           0         \n",
            "_________________________________________________________________\n",
            "conv1d (Conv1D)              (None, 12, 64)            32064     \n",
            "_________________________________________________________________\n",
            "max_pooling1d (MaxPooling1D) (None, 3, 64)             0         \n",
            "_________________________________________________________________\n",
            "lstm (LSTM)                  (None, 64)                33024     \n",
            "_________________________________________________________________\n",
            "dense (Dense)                (None, 1)                 65        \n",
            "=================================================================\n",
            "Total params: 13,909,553\n",
            "Trainable params: 65,153\n",
            "Non-trainable params: 13,844,400\n",
            "_________________________________________________________________\n",
            "Epoch 1/50\n",
            "4500/4500 - 15s - loss: 0.5678 - accuracy: 0.6987 - val_loss: 0.5275 - val_accuracy: 0.7312\n",
            "Epoch 2/50\n",
            "4500/4500 - 15s - loss: 0.5288 - accuracy: 0.7311 - val_loss: 0.5153 - val_accuracy: 0.7422\n",
            "Epoch 3/50\n",
            "4500/4500 - 15s - loss: 0.5133 - accuracy: 0.7430 - val_loss: 0.4999 - val_accuracy: 0.7529\n",
            "Epoch 4/50\n",
            "4500/4500 - 15s - loss: 0.5013 - accuracy: 0.7507 - val_loss: 0.4971 - val_accuracy: 0.7552\n",
            "Epoch 5/50\n",
            "4500/4500 - 15s - loss: 0.4931 - accuracy: 0.7572 - val_loss: 0.4940 - val_accuracy: 0.7575\n",
            "Epoch 6/50\n",
            "4500/4500 - 15s - loss: 0.4861 - accuracy: 0.7612 - val_loss: 0.4922 - val_accuracy: 0.7566\n",
            "Epoch 7/50\n",
            "4500/4500 - 15s - loss: 0.4802 - accuracy: 0.7650 - val_loss: 0.4915 - val_accuracy: 0.7596\n",
            "Epoch 8/50\n",
            "4500/4500 - 15s - loss: 0.4754 - accuracy: 0.7662 - val_loss: 0.4935 - val_accuracy: 0.7574\n",
            "Epoch 9/50\n",
            "4500/4500 - 15s - loss: 0.4715 - accuracy: 0.7693 - val_loss: 0.4928 - val_accuracy: 0.7606\n",
            "Epoch 10/50\n",
            "4500/4500 - 14s - loss: 0.4679 - accuracy: 0.7715 - val_loss: 0.4942 - val_accuracy: 0.7551\n",
            "Epoch 11/50\n",
            "4500/4500 - 15s - loss: 0.4637 - accuracy: 0.7757 - val_loss: 0.4909 - val_accuracy: 0.7607\n",
            "Epoch 12/50\n",
            "4500/4500 - 14s - loss: 0.4597 - accuracy: 0.7772 - val_loss: 0.5017 - val_accuracy: 0.7591\n",
            "Epoch 13/50\n",
            "4500/4500 - 14s - loss: 0.4580 - accuracy: 0.7778 - val_loss: 0.4958 - val_accuracy: 0.7570\n",
            "Epoch 14/50\n",
            "4500/4500 - 15s - loss: 0.4555 - accuracy: 0.7800 - val_loss: 0.4979 - val_accuracy: 0.7569\n",
            "Epoch 15/50\n",
            "4500/4500 - 15s - loss: 0.4532 - accuracy: 0.7811 - val_loss: 0.5001 - val_accuracy: 0.7569\n",
            "Epoch 16/50\n",
            "4500/4500 - 14s - loss: 0.4526 - accuracy: 0.7816 - val_loss: 0.5055 - val_accuracy: 0.7590\n",
            "Epoch 17/50\n",
            "4500/4500 - 14s - loss: 0.4511 - accuracy: 0.7812 - val_loss: 0.4990 - val_accuracy: 0.7567\n",
            "Epoch 18/50\n",
            "4500/4500 - 15s - loss: 0.4483 - accuracy: 0.7823 - val_loss: 0.5030 - val_accuracy: 0.7519\n",
            "Epoch 19/50\n",
            "4500/4500 - 15s - loss: 0.4479 - accuracy: 0.7848 - val_loss: 0.5012 - val_accuracy: 0.7549\n",
            "Epoch 20/50\n",
            "4500/4500 - 15s - loss: 0.4447 - accuracy: 0.7867 - val_loss: 0.5038 - val_accuracy: 0.7510\n",
            "Epoch 21/50\n",
            "4500/4500 - 14s - loss: 0.4439 - accuracy: 0.7861 - val_loss: 0.5029 - val_accuracy: 0.7537\n",
            "Epoch 22/50\n",
            "4500/4500 - 14s - loss: 0.4434 - accuracy: 0.7883 - val_loss: 0.5045 - val_accuracy: 0.7554\n",
            "Epoch 23/50\n",
            "4500/4500 - 14s - loss: 0.4422 - accuracy: 0.7865 - val_loss: 0.5085 - val_accuracy: 0.7544\n",
            "Epoch 24/50\n",
            "4500/4500 - 14s - loss: 0.4405 - accuracy: 0.7890 - val_loss: 0.5044 - val_accuracy: 0.7576\n",
            "Epoch 25/50\n",
            "4500/4500 - 15s - loss: 0.4417 - accuracy: 0.7877 - val_loss: 0.5091 - val_accuracy: 0.7528\n",
            "Epoch 26/50\n",
            "4500/4500 - 14s - loss: 0.4395 - accuracy: 0.7892 - val_loss: 0.5109 - val_accuracy: 0.7522\n",
            "Epoch 27/50\n",
            "4500/4500 - 14s - loss: 0.4388 - accuracy: 0.7900 - val_loss: 0.5061 - val_accuracy: 0.7506\n",
            "Epoch 28/50\n",
            "4500/4500 - 14s - loss: 0.4388 - accuracy: 0.7897 - val_loss: 0.5109 - val_accuracy: 0.7489\n",
            "Epoch 29/50\n",
            "4500/4500 - 14s - loss: 0.4361 - accuracy: 0.7908 - val_loss: 0.5079 - val_accuracy: 0.7531\n",
            "Epoch 30/50\n",
            "4500/4500 - 14s - loss: 0.4366 - accuracy: 0.7913 - val_loss: 0.5133 - val_accuracy: 0.7509\n",
            "Epoch 31/50\n",
            "4500/4500 - 15s - loss: 0.4359 - accuracy: 0.7899 - val_loss: 0.5089 - val_accuracy: 0.7539\n",
            "Epoch 32/50\n",
            "4500/4500 - 14s - loss: 0.4355 - accuracy: 0.7917 - val_loss: 0.5121 - val_accuracy: 0.7529\n",
            "Epoch 33/50\n",
            "4500/4500 - 14s - loss: 0.4335 - accuracy: 0.7923 - val_loss: 0.5113 - val_accuracy: 0.7529\n",
            "Epoch 34/50\n",
            "4500/4500 - 14s - loss: 0.4348 - accuracy: 0.7910 - val_loss: 0.5184 - val_accuracy: 0.7512\n",
            "Epoch 35/50\n",
            "4500/4500 - 14s - loss: 0.4343 - accuracy: 0.7931 - val_loss: 0.5118 - val_accuracy: 0.7489\n",
            "Epoch 36/50\n",
            "4500/4500 - 15s - loss: 0.4342 - accuracy: 0.7926 - val_loss: 0.5108 - val_accuracy: 0.7541\n",
            "Epoch 37/50\n",
            "4500/4500 - 15s - loss: 0.4321 - accuracy: 0.7931 - val_loss: 0.5120 - val_accuracy: 0.7544\n",
            "Epoch 38/50\n",
            "4500/4500 - 14s - loss: 0.4321 - accuracy: 0.7943 - val_loss: 0.5083 - val_accuracy: 0.7517\n",
            "Epoch 39/50\n",
            "4500/4500 - 14s - loss: 0.4312 - accuracy: 0.7948 - val_loss: 0.5105 - val_accuracy: 0.7534\n",
            "Epoch 40/50\n",
            "4500/4500 - 14s - loss: 0.4308 - accuracy: 0.7939 - val_loss: 0.5098 - val_accuracy: 0.7539\n",
            "Epoch 41/50\n",
            "4500/4500 - 14s - loss: 0.4315 - accuracy: 0.7948 - val_loss: 0.5089 - val_accuracy: 0.7543\n",
            "Epoch 42/50\n",
            "4500/4500 - 15s - loss: 0.4302 - accuracy: 0.7955 - val_loss: 0.5134 - val_accuracy: 0.7513\n",
            "Epoch 43/50\n",
            "4500/4500 - 14s - loss: 0.4305 - accuracy: 0.7942 - val_loss: 0.5119 - val_accuracy: 0.7510\n",
            "Epoch 44/50\n",
            "4500/4500 - 14s - loss: 0.4307 - accuracy: 0.7952 - val_loss: 0.5169 - val_accuracy: 0.7484\n",
            "Epoch 45/50\n",
            "4500/4500 - 14s - loss: 0.4290 - accuracy: 0.7952 - val_loss: 0.5091 - val_accuracy: 0.7520\n",
            "Epoch 46/50\n",
            "4500/4500 - 14s - loss: 0.4306 - accuracy: 0.7939 - val_loss: 0.5126 - val_accuracy: 0.7516\n",
            "Epoch 47/50\n",
            "4500/4500 - 14s - loss: 0.4292 - accuracy: 0.7953 - val_loss: 0.5138 - val_accuracy: 0.7516\n",
            "Epoch 48/50\n",
            "4500/4500 - 15s - loss: 0.4284 - accuracy: 0.7957 - val_loss: 0.5162 - val_accuracy: 0.7482\n",
            "Epoch 49/50\n",
            "4500/4500 - 14s - loss: 0.4301 - accuracy: 0.7950 - val_loss: 0.5113 - val_accuracy: 0.7506\n",
            "Epoch 50/50\n",
            "4500/4500 - 14s - loss: 0.4291 - accuracy: 0.7958 - val_loss: 0.5200 - val_accuracy: 0.7498\n",
            "Training Complete\n"
          ],
          "name": "stdout"
        }
      ]
    },
    {
      "cell_type": "code",
      "metadata": {
        "id": "G6J1j6s2VNbR",
        "colab_type": "code",
        "colab": {
          "base_uri": "https://localhost:8080/",
          "height": 607
        },
        "outputId": "01e77566-57bc-454b-a0f4-949f7d5fe1f4"
      },
      "source": [
        "import matplotlib.image  as mpimg\n",
        "import matplotlib.pyplot as plt\n",
        "\n",
        "#-----------------------------------------------------------\n",
        "# Retrieve a list of list results on training and test data\n",
        "# sets for each training epoch\n",
        "#-----------------------------------------------------------\n",
        "acc=history.history['accuracy']\n",
        "val_acc=history.history['val_accuracy']\n",
        "loss=history.history['loss']\n",
        "val_loss=history.history['val_loss']\n",
        "\n",
        "epochs=range(len(acc)) # Get number of epochs\n",
        "\n",
        "#------------------------------------------------\n",
        "# Plot training and validation accuracy per epoch\n",
        "#------------------------------------------------\n",
        "plt.plot(epochs, acc, 'r')\n",
        "plt.plot(epochs, val_acc, 'b')\n",
        "plt.title('Training and validation accuracy')\n",
        "plt.xlabel(\"Epochs\")\n",
        "plt.ylabel(\"Accuracy\")\n",
        "plt.legend([\"Accuracy\", \"Validation Accuracy\"])\n",
        "\n",
        "plt.figure()\n",
        "\n",
        "#------------------------------------------------\n",
        "# Plot training and validation loss per epoch\n",
        "#------------------------------------------------\n",
        "plt.plot(epochs, loss, 'r')\n",
        "plt.plot(epochs, val_loss, 'b')\n",
        "plt.title('Training and validation loss')\n",
        "plt.xlabel(\"Epochs\")\n",
        "plt.ylabel(\"Loss\")\n",
        "plt.legend([\"Loss\", \"Validation Loss\"])\n",
        "\n",
        "plt.figure()\n",
        "\n",
        "\n",
        "# Expected Output\n",
        "# A chart where the validation loss does not increase sharply!"
      ],
      "execution_count": 10,
      "outputs": [
        {
          "output_type": "execute_result",
          "data": {
            "text/plain": [
              "<Figure size 432x288 with 0 Axes>"
            ]
          },
          "metadata": {
            "tags": []
          },
          "execution_count": 10
        },
        {
          "output_type": "display_data",
          "data": {
            "image/png": "[encoded data removed]",
            "text/plain": [
              "<Figure size 432x288 with 1 Axes>"
            ]
          },
          "metadata": {
            "tags": [],
            "needs_background": "light"
          }
        },
        {
          "output_type": "display_data",
          "data": {
            "image/png": "[encoded data removed]",
            "text/plain": [
              "<Figure size 432x288 with 1 Axes>"
            ]
          },
          "metadata": {
            "tags": [],
            "needs_background": "light"
          }
        },
        {
          "output_type": "display_data",
          "data": {
            "text/plain": [
              "<Figure size 432x288 with 0 Axes>"
            ]
          },
          "metadata": {
            "tags": []
          }
        }
      ]
    },
    {
      "cell_type": "code",
      "metadata": {
        "id": "cYSWVk1UZbsm",
        "colab_type": "code",
        "colab": {}
      },
      "source": [
        ""
      ],
      "execution_count": 0,
      "outputs": []
    },
    {
      "cell_type": "code",
      "metadata": {
        "id": "2lDPL_j_ZflW",
        "colab_type": "code",
        "colab": {}
      },
      "source": [
        ""
      ],
      "execution_count": 0,
      "outputs": []
    }
  ]
}