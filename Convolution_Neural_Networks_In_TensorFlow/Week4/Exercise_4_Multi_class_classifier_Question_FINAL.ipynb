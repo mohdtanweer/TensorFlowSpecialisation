{
  "nbformat": 4,
  "nbformat_minor": 0,
  "metadata": {
    "colab": {
      "name": "Exercise_4_Multi_class_classifier_Question-FINAL.ipynb",
      "provenance": [],
      "authorship_tag": "ABX9TyO5DXOfZ0efcpn7zKpeGKnK",
      "include_colab_link": true
    },
    "kernelspec": {
      "name": "python3",
      "display_name": "Python 3"
    },
    "accelerator": "GPU"
  },
  "cells": [
    {
      "cell_type": "markdown",
      "metadata": {
        "id": "view-in-github",
        "colab_type": "text"
      },
      "source": [
        "<a href=\"https://colab.research.google.com/github/mohdtanweer/TensorFlowSpecialisation/blob/master/Convolution_Neural_Networks_In_TensorFlow/Week4/Exercise_4_Multi_class_classifier_Question_FINAL.ipynb\" target=\"_parent\"><img src=\"https://colab.research.google.com/assets/colab-badge.svg\" alt=\"Open In Colab\"/></a>"
      ]
    },
    {
      "cell_type": "code",
      "metadata": {
        "id": "O-mICkTByX79",
        "colab_type": "code",
        "colab": {}
      },
      "source": [
        "# ATTENTION: Please do not alter any of the provided code in the exercise. Only add your own code where indicated\n",
        "# ATTENTION: Please do not add or remove any cells in the exercise. The grader will check specific cells based on the cell position.\n",
        "# ATTENTION: Please use the provided epoch values when training.\n",
        "\n",
        "import csv\n",
        "import numpy as np\n",
        "import tensorflow as tf\n",
        "from tensorflow.keras.preprocessing.image import ImageDataGenerator\n",
        "from os import getcwd"
      ],
      "execution_count": 0,
      "outputs": []
    },
    {
      "cell_type": "code",
      "metadata": {
        "id": "zq_MhDqFycXx",
        "colab_type": "code",
        "colab": {
          "base_uri": "https://localhost:8080/",
          "height": 122
        },
        "outputId": "e84d2edf-01d1-430a-bb24-aedd824fd0a4"
      },
      "source": [
        "from google.colab import drive\n",
        "drive.mount('/content/gdrive')"
      ],
      "execution_count": 2,
      "outputs": [
        {
          "output_type": "stream",
          "text": [
            "Go to this URL in a browser: https://accounts.google.com/o/oauth2/auth?client_id=947318989803-6bn6qk8qdgf4n4g3pfee6491hc0brc4i.apps.googleusercontent.com&redirect_uri=urn%3aietf%3awg%3aoauth%3a2.0%3aoob&response_type=code&scope=email%20https%3a%2f%2fwww.googleapis.com%2fauth%2fdocs.test%20https%3a%2f%2fwww.googleapis.com%2fauth%2fdrive%20https%3a%2f%2fwww.googleapis.com%2fauth%2fdrive.photos.readonly%20https%3a%2f%2fwww.googleapis.com%2fauth%2fpeopleapi.readonly\n",
            "\n",
            "Enter your authorization code:\n",
            "··········\n",
            "Mounted at /content/gdrive\n"
          ],
          "name": "stdout"
        }
      ]
    },
    {
      "cell_type": "code",
      "metadata": {
        "id": "GW1r0IyTyssE",
        "colab_type": "code",
        "colab": {
          "base_uri": "https://localhost:8080/",
          "height": 136
        },
        "outputId": "aea363ba-3d85-4bd9-e54c-fbb76acaf5c4"
      },
      "source": [
        "import os\n",
        "os.listdir('/content/gdrive/My Drive/TensorFlowSpecialisation/Convolution_Neural_Networks_In_TensorFlow/data')"
      ],
      "execution_count": 4,
      "outputs": [
        {
          "output_type": "execute_result",
          "data": {
            "text/plain": [
              "['horse-or-human.zip',\n",
              " 'validation-horse-or-human.zip',\n",
              " 'rps.zip',\n",
              " 'rps-test-set.zip',\n",
              " 'rps-validation.zip',\n",
              " 'sign_mnist_test.csv',\n",
              " 'sign_mnist_train.csv']"
            ]
          },
          "metadata": {
            "tags": []
          },
          "execution_count": 4
        }
      ]
    },
    {
      "cell_type": "code",
      "metadata": {
        "id": "-gq4XmvZy2Ov",
        "colab_type": "code",
        "colab": {
          "base_uri": "https://localhost:8080/",
          "height": 85
        },
        "outputId": "80fbfdc4-89c3-48e7-b998-bd78f6db918a"
      },
      "source": [
        "def get_data(filename):\n",
        "  # You will need to write code that will read the file passed\n",
        "  # into this function. The first line contains the column headers\n",
        "  # so you should ignore it\n",
        "  # Each successive line contians 785 comma separated values between 0 and 255\n",
        "  # The first value is the label\n",
        "  # The rest are the pixel values for that picture\n",
        "  # The function will return 2 np.array types. One with all the labels\n",
        "  # One with all the images\n",
        "  #\n",
        "  # Tips: \n",
        "  # If you read a full line (as 'row') then row[0] has the label\n",
        "  # and row[1:785] has the 784 pixel values\n",
        "  # Take a look at np.array_split to turn the 784 pixels into 28x28\n",
        "  # You are reading in strings, but need the values to be floats\n",
        "  # Check out np.array().astype for a conversion\n",
        "    with open(filename) as training_file:\n",
        "      # Your code starts here\n",
        "        reader = csv.reader(training_file, delimiter=',')    \n",
        "        imgs = []\n",
        "        labels = []\n",
        "\n",
        "        next(reader, None)\n",
        "        \n",
        "        for row in reader:\n",
        "            label = row[0]\n",
        "            data = row[1:]\n",
        "            img = np.array(data).reshape((28, 28))\n",
        "\n",
        "            imgs.append(img)\n",
        "            labels.append(label)\n",
        "\n",
        "        images = np.array(imgs).astype(float)\n",
        "        labels = np.array(labels).astype(float)\n",
        "      # Your code ends here\n",
        "    return images, labels\n",
        "\n",
        "path_sign_mnist_train = \"/content/gdrive/My Drive/TensorFlowSpecialisation/Convolution_Neural_Networks_In_TensorFlow/data/sign_mnist_train.csv\"\n",
        "path_sign_mnist_test = \"/content/gdrive/My Drive/TensorFlowSpecialisation/Convolution_Neural_Networks_In_TensorFlow/data/sign_mnist_test.csv\"\n",
        "training_images, training_labels = get_data(path_sign_mnist_train)\n",
        "testing_images, testing_labels = get_data(path_sign_mnist_test)\n",
        "\n",
        "# Keep these\n",
        "print(training_images.shape)\n",
        "print(training_labels.shape)\n",
        "print(testing_images.shape)\n",
        "print(testing_labels.shape)\n",
        "\n",
        "# Their output should be:\n",
        "# (27455, 28, 28)\n",
        "# (27455,)\n",
        "# (7172, 28, 28)\n",
        "# (7172,)"
      ],
      "execution_count": 5,
      "outputs": [
        {
          "output_type": "stream",
          "text": [
            "(27455, 28, 28)\n",
            "(27455,)\n",
            "(7172, 28, 28)\n",
            "(7172,)\n"
          ],
          "name": "stdout"
        }
      ]
    },
    {
      "cell_type": "code",
      "metadata": {
        "id": "VFS0NteKzCzY",
        "colab_type": "code",
        "colab": {
          "base_uri": "https://localhost:8080/",
          "height": 51
        },
        "outputId": "0cf74bc1-ac7d-42e1-e979-80131a649bfc"
      },
      "source": [
        "# In this section you will have to add another dimension to the data\n",
        "# So, for example, if your array is (10000, 28, 28)\n",
        "# You will need to make it (10000, 28, 28, 1)\n",
        "# Hint: np.expand_dims\n",
        "\n",
        "training_images = np.expand_dims(training_images, axis=3) # Your Code Here\n",
        "testing_images = np.expand_dims(testing_images, axis=3) # Your Code Here\n",
        "\n",
        "# Create an ImageDataGenerator and do Image Augmentation\n",
        "train_datagen = ImageDataGenerator(\n",
        "    # Your Code Here\n",
        "    rescale = 1./255,\n",
        "    rotation_range=40,\n",
        "    width_shift_range=0.2,\n",
        "    height_shift_range=0.2,\n",
        "    shear_range=0.2,\n",
        "    zoom_range=0.2,\n",
        "    horizontal_flip=True,\n",
        "    fill_mode='nearest'\n",
        "    )\n",
        "\n",
        "validation_datagen = ImageDataGenerator(\n",
        "    ImageDataGenerator(rescale = 1./255))\n",
        "    # Your Code Here)\n",
        "    \n",
        "# Keep These\n",
        "print(training_images.shape)\n",
        "print(testing_images.shape)\n",
        "    \n",
        "# Their output should be:\n",
        "# (27455, 28, 28, 1)\n",
        "# (7172, 28, 28, 1)"
      ],
      "execution_count": 6,
      "outputs": [
        {
          "output_type": "stream",
          "text": [
            "(27455, 28, 28, 1)\n",
            "(7172, 28, 28, 1)\n"
          ],
          "name": "stdout"
        }
      ]
    },
    {
      "cell_type": "code",
      "metadata": {
        "id": "bPnekWBgzJIl",
        "colab_type": "code",
        "colab": {
          "base_uri": "https://localhost:8080/",
          "height": 649
        },
        "outputId": "28354590-8b1b-42f2-f7a7-ba233d8f44a0"
      },
      "source": [
        "# Define the model\n",
        "# Use no more than 2 Conv2D and 2 MaxPooling2D\n",
        "model = tf.keras.models.Sequential([\n",
        "    tf.keras.layers.Conv2D(32, (3,3), activation='relu', input_shape=(28, 28, 1)),\n",
        "    tf.keras.layers.MaxPooling2D(2, 2),\n",
        "    tf.keras.layers.Conv2D(32, (3,3), activation='relu'),\n",
        "    tf.keras.layers.MaxPooling2D(2,2),\n",
        "    tf.keras.layers.Flatten(),\n",
        "    tf.keras.layers.Dense(512, activation='relu'),\n",
        "    tf.keras.layers.Dense(26, activation='softmax')\n",
        "    # Your Code Here\n",
        "])\n",
        "\n",
        "# Compile Model. \n",
        "model.compile(loss = 'sparse_categorical_crossentropy', optimizer='adam', metrics=['accuracy'])\n",
        "\n",
        "# Configure generators\n",
        "train_generator = train_datagen.flow(\n",
        "    training_images,\n",
        "    training_labels,\n",
        "    batch_size=64\n",
        ")\n",
        "\n",
        "validation_generator = validation_datagen.flow(\n",
        "    testing_images,\n",
        "    testing_labels,\n",
        "    batch_size=64\n",
        ")\n",
        "\n",
        "\n",
        "# Train the Model\n",
        "history = model.fit_generator(train_generator, \n",
        "                              epochs=15,  \n",
        "                              validation_data = validation_generator\n",
        "                              )# Your Code Here (do not set epochs > 15))\n",
        "\n",
        "model.evaluate(testing_images, testing_labels, verbose=0)"
      ],
      "execution_count": 7,
      "outputs": [
        {
          "output_type": "stream",
          "text": [
            "WARNING:tensorflow:From <ipython-input-7-c604f390ed4a>:34: Model.fit_generator (from tensorflow.python.keras.engine.training) is deprecated and will be removed in a future version.\n",
            "Instructions for updating:\n",
            "Please use Model.fit, which supports generators.\n",
            "Epoch 1/15\n",
            "429/429 [==============================] - ETA: 0s - loss: 2.8146 - accuracy: 0.1486"
          ],
          "name": "stdout"
        },
        {
          "output_type": "stream",
          "text": [
            "/usr/local/lib/python3.6/dist-packages/keras_preprocessing/image/image_data_generator.py:720: UserWarning: This ImageDataGenerator specifies `featurewise_center`, but it hasn't been fit on any training data. Fit it first by calling `.fit(numpy_data)`.\n",
            "  warnings.warn('This ImageDataGenerator specifies '\n"
          ],
          "name": "stderr"
        },
        {
          "output_type": "stream",
          "text": [
            "429/429 [==============================] - 12s 28ms/step - loss: 2.8146 - accuracy: 0.1486 - val_loss: 217.2782 - val_accuracy: 0.2131\n",
            "Epoch 2/15\n",
            "429/429 [==============================] - 12s 28ms/step - loss: 2.0823 - accuracy: 0.3461 - val_loss: 201.2393 - val_accuracy: 0.3218\n",
            "Epoch 3/15\n",
            "429/429 [==============================] - 12s 28ms/step - loss: 1.6845 - accuracy: 0.4619 - val_loss: 223.8656 - val_accuracy: 0.4059\n",
            "Epoch 4/15\n",
            "429/429 [==============================] - 12s 27ms/step - loss: 1.4324 - accuracy: 0.5358 - val_loss: 238.0326 - val_accuracy: 0.4498\n",
            "Epoch 5/15\n",
            "429/429 [==============================] - 12s 27ms/step - loss: 1.2461 - accuracy: 0.5904 - val_loss: 189.9426 - val_accuracy: 0.5208\n",
            "Epoch 6/15\n",
            "429/429 [==============================] - 12s 27ms/step - loss: 1.1124 - accuracy: 0.6377 - val_loss: 218.0060 - val_accuracy: 0.5107\n",
            "Epoch 7/15\n",
            "429/429 [==============================] - 12s 27ms/step - loss: 0.9800 - accuracy: 0.6794 - val_loss: 254.4802 - val_accuracy: 0.4545\n",
            "Epoch 8/15\n",
            "429/429 [==============================] - 12s 27ms/step - loss: 0.8765 - accuracy: 0.7110 - val_loss: 148.0970 - val_accuracy: 0.6228\n",
            "Epoch 9/15\n",
            "429/429 [==============================] - 12s 27ms/step - loss: 0.8102 - accuracy: 0.7328 - val_loss: 169.3662 - val_accuracy: 0.5895\n",
            "Epoch 10/15\n",
            "429/429 [==============================] - 11s 27ms/step - loss: 0.7527 - accuracy: 0.7485 - val_loss: 276.5993 - val_accuracy: 0.4798\n",
            "Epoch 11/15\n",
            "429/429 [==============================] - 11s 26ms/step - loss: 0.6900 - accuracy: 0.7708 - val_loss: 161.8120 - val_accuracy: 0.5793\n",
            "Epoch 12/15\n",
            "429/429 [==============================] - 11s 27ms/step - loss: 0.6406 - accuracy: 0.7863 - val_loss: 215.4318 - val_accuracy: 0.5809\n",
            "Epoch 13/15\n",
            "429/429 [==============================] - 11s 26ms/step - loss: 0.5960 - accuracy: 0.8015 - val_loss: 185.3926 - val_accuracy: 0.6062\n",
            "Epoch 14/15\n",
            "429/429 [==============================] - 11s 26ms/step - loss: 0.5684 - accuracy: 0.8118 - val_loss: 181.0802 - val_accuracy: 0.6344\n",
            "Epoch 15/15\n",
            "429/429 [==============================] - 11s 27ms/step - loss: 0.5372 - accuracy: 0.8217 - val_loss: 193.6398 - val_accuracy: 0.6346\n"
          ],
          "name": "stdout"
        },
        {
          "output_type": "execute_result",
          "data": {
            "text/plain": [
              "[193.63983154296875, 0.6345510482788086]"
            ]
          },
          "metadata": {
            "tags": []
          },
          "execution_count": 7
        }
      ]
    },
    {
      "cell_type": "code",
      "metadata": {
        "id": "7Z2d_rjUzK7x",
        "colab_type": "code",
        "colab": {
          "base_uri": "https://localhost:8080/",
          "height": 545
        },
        "outputId": "19ba559b-6d89-418f-b285-e9dae502e4db"
      },
      "source": [
        "# Plot the chart for accuracy and loss on both training and validation\n",
        "%matplotlib inline\n",
        "import matplotlib.pyplot as plt\n",
        "acc = history.history['accuracy'] # Your Code Here\n",
        "val_acc = history.history['val_accuracy'] # Your Code Here\n",
        "loss = history.history['loss'] # Your Code Here\n",
        "val_loss = history.history['val_loss'] # Your Code Here\n",
        "\n",
        "epochs = range(len(acc))\n",
        "\n",
        "plt.plot(epochs, acc, 'r', label='Training accuracy')\n",
        "plt.plot(epochs, val_acc, 'b', label='Validation accuracy')\n",
        "plt.title('Training and validation accuracy')\n",
        "plt.legend()\n",
        "plt.figure()\n",
        "\n",
        "plt.plot(epochs, loss, 'r', label='Training Loss')\n",
        "plt.plot(epochs, val_loss, 'b', label='Validation Loss')\n",
        "plt.title('Training and validation loss')\n",
        "plt.legend()\n",
        "\n",
        "plt.show()"
      ],
      "execution_count": 8,
      "outputs": [
        {
          "output_type": "display_data",
          "data": {
            "image/png": "[encoded data removed]",
            "text/plain": [
              "<Figure size 432x288 with 1 Axes>"
            ]
          },
          "metadata": {
            "tags": [],
            "needs_background": "light"
          }
        },
        {
          "output_type": "display_data",
          "data": {
            "image/png": "[encoded data removed]",
            "text/plain": [
              "<Figure size 432x288 with 1 Axes>"
            ]
          },
          "metadata": {
            "tags": [],
            "needs_background": "light"
          }
        }
      ]
    },
    {
      "cell_type": "code",
      "metadata": {
        "id": "S87wjG3fzbaz",
        "colab_type": "code",
        "colab": {
          "base_uri": "https://localhost:8080/",
          "height": 17
        },
        "outputId": "5e5191a7-01d4-47d7-d908-8300ff6c950c"
      },
      "source": [
        "%%javascript\n",
        "<!-- Save the notebook -->\n",
        "IPython.notebook.save_checkpoint();"
      ],
      "execution_count": 9,
      "outputs": [
        {
          "output_type": "display_data",
          "data": {
            "application/javascript": [
              "<!-- Save the notebook -->\n",
              "IPython.notebook.save_checkpoint();"
            ],
            "text/plain": [
              "<IPython.core.display.Javascript object>"
            ]
          },
          "metadata": {
            "tags": []
          }
        }
      ]
    },
    {
      "cell_type": "code",
      "metadata": {
        "id": "hJVO1ehwz70Y",
        "colab_type": "code",
        "colab": {}
      },
      "source": [
        ""
      ],
      "execution_count": 0,
      "outputs": []
    }
  ]
}