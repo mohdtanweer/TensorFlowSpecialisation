{
 "cells": [
  {
   "cell_type": "code",
   "execution_count": 8,
   "metadata": {},
   "outputs": [],
   "source": [
    "# ATTENTION: Please do not alter any of the provided code in the exercise. Only add your own code where indicated\n",
    "# ATTENTION: Please do not add or remove any cells in the exercise. The grader will check specific cells based on the cell position.\n",
    "# ATTENTION: Please use the provided epoch values when training.\n",
    "\n",
    "# In this exercise you will train a CNN on the FULL Cats-v-dogs dataset\n",
    "# This will require you doing a lot of data preprocessing because\n",
    "# the dataset isn't split into training and validation for you\n",
    "# This code block has all the required inputs\n",
    "import os\n",
    "import zipfile\n",
    "import random\n",
    "import shutil\n",
    "import tensorflow as tf\n",
    "from tensorflow.keras.optimizers import RMSprop\n",
    "from tensorflow.keras.preprocessing.image import ImageDataGenerator\n",
    "from shutil import copyfile\n",
    "from os import getcwd"
   ]
  },
  {
   "cell_type": "code",
   "execution_count": 9,
   "metadata": {},
   "outputs": [],
   "source": [
    "# This code block unzips the full Cats-v-Dogs dataset to /tmp\n",
    "# which will create a tmp/PetImages directory containing subdirectories\n",
    "# called 'Cat' and 'Dog' (that's how the original researchers structured it)\n",
    "path_cats_and_dogs = \"/Users/mohammadtanweer/Documents/Personal/datasets/CNN/cats-and-dogs.zip\"\n",
    "# shutil.rmtree('/tmp')\n",
    "\n",
    "local_zip = path_cats_and_dogs\n",
    "zip_ref = zipfile.ZipFile(local_zip, 'r')\n",
    "zip_ref.extractall('/tmp')\n",
    "zip_ref.close()"
   ]
  },
  {
   "cell_type": "code",
   "execution_count": 10,
   "metadata": {},
   "outputs": [
    {
     "name": "stdout",
     "output_type": "stream",
     "text": [
      "1500\n",
      "1500\n"
     ]
    }
   ],
   "source": [
    "print(len(os.listdir('/tmp/PetImages/Cat/')))\n",
    "print(len(os.listdir('/tmp/PetImages/Dog/')))"
   ]
  },
  {
   "cell_type": "code",
   "execution_count": 11,
   "metadata": {},
   "outputs": [],
   "source": [
    "# Use os.mkdir to create your directories\n",
    "# You will need a directory for cats-v-dogs, and subdirectories for training\n",
    "# and testing. These in turn will need subdirectories for 'cats' and 'dogs'\n",
    "try:\n",
    "    #YOUR CODE GOES HERE\n",
    "    os.mkdir('/tmp/cats-v-dogs')\n",
    "    os.mkdir('/tmp/cats-v-dogs/training')\n",
    "    os.mkdir('/tmp/cats-v-dogs/training/cats')\n",
    "    os.mkdir('/tmp/cats-v-dogs/training/dogs')\n",
    "    os.mkdir('/tmp/cats-v-dogs/testing')\n",
    "    os.mkdir('/tmp/cats-v-dogs/testing/cats')\n",
    "    os.mkdir('/tmp/cats-v-dogs/testing/dogs')\n",
    "except OSError:\n",
    "    pass"
   ]
  },
  {
   "cell_type": "code",
   "execution_count": 12,
   "metadata": {},
   "outputs": [],
   "source": [
    "# Write a python function called split_data which takes\n",
    "# a SOURCE directory containing the files\n",
    "# a TRAINING directory that a portion of the files will be copied to\n",
    "# a TESTING directory that a portion of the files will be copie to\n",
    "# a SPLIT SIZE to determine the portion\n",
    "# The files should also be randomized, so that the training set is a random\n",
    "# X% of the files, and the test set is the remaining files\n",
    "# SO, for example, if SOURCE is PetImages/Cat, and SPLIT SIZE is .9\n",
    "# Then 90% of the images in PetImages/Cat will be copied to the TRAINING dir\n",
    "# and 10% of the images will be copied to the TESTING dir\n",
    "# Also -- All images should be checked, and if they have a zero file length,\n",
    "# they will not be copied over\n",
    "#\n",
    "# os.listdir(DIRECTORY) gives you a listing of the contents of that directory\n",
    "# os.path.getsize(PATH) gives you the size of the file\n",
    "# copyfile(source, destination) copies a file from source to destination\n",
    "# random.sample(list, len(list)) shuffles a list\n",
    "def split_data(SOURCE, TRAINING, TESTING, SPLIT_SIZE):\n",
    "# YOUR CODE STARTS HERE\n",
    "    training_size = int(len(os.listdir(SOURCE)) * SPLIT_SIZE)\n",
    "    random_files = random.sample(os.listdir(SOURCE), len(os.listdir(SOURCE)))\n",
    "    i = 0\n",
    "    for file in random_files:\n",
    "        if os.path.getsize(os.path.join(SOURCE, file)) > 0:\n",
    "            if i < training_size:\n",
    "                copyfile(os.path.join(SOURCE, file), os.path.join(TRAINING, file))\n",
    "                i += 1\n",
    "            else:\n",
    "                copyfile(os.path.join(SOURCE, file), os.path.join(TESTING, file))\n",
    "        else:\n",
    "            print(file, \"is zero length, so ignoring\")\n",
    "# YOUR CODE ENDS HERE\n",
    "\n",
    "\n",
    "CAT_SOURCE_DIR = \"/tmp/PetImages/Cat/\"\n",
    "TRAINING_CATS_DIR = \"/tmp/cats-v-dogs/training/cats/\"\n",
    "TESTING_CATS_DIR = \"/tmp/cats-v-dogs/testing/cats/\"\n",
    "DOG_SOURCE_DIR = \"/tmp/PetImages/Dog/\"\n",
    "TRAINING_DOGS_DIR = \"/tmp/cats-v-dogs/training/dogs/\"\n",
    "TESTING_DOGS_DIR = \"/tmp/cats-v-dogs/testing/dogs/\"\n",
    "\n",
    "split_size = .9\n",
    "split_data(CAT_SOURCE_DIR, TRAINING_CATS_DIR, TESTING_CATS_DIR, split_size)\n",
    "split_data(DOG_SOURCE_DIR, TRAINING_DOGS_DIR, TESTING_DOGS_DIR, split_size)\n",
    "\n",
    "# Expected output\n",
    "# 666.jpg is zero length, so ignoring\n",
    "# 11702.jpg is zero length, so ignoring"
   ]
  },
  {
   "cell_type": "code",
   "execution_count": 13,
   "metadata": {},
   "outputs": [
    {
     "name": "stdout",
     "output_type": "stream",
     "text": [
      "1350\n",
      "1350\n",
      "150\n",
      "150\n"
     ]
    }
   ],
   "source": [
    "print(len(os.listdir('/tmp/cats-v-dogs/training/cats/')))\n",
    "print(len(os.listdir('/tmp/cats-v-dogs/training/dogs/')))\n",
    "print(len(os.listdir('/tmp/cats-v-dogs/testing/cats/')))\n",
    "print(len(os.listdir('/tmp/cats-v-dogs/testing/dogs/')))\n",
    "\n",
    "# Expected output:\n",
    "# 11250\n",
    "# 11250\n",
    "# 1250\n",
    "# 1250"
   ]
  },
  {
   "cell_type": "code",
   "execution_count": 18,
   "metadata": {},
   "outputs": [],
   "source": [
    "# DEFINE A KERAS MODEL TO CLASSIFY CATS V DOGS\n",
    "# USE AT LEAST 3 CONVOLUTION LAYERS\n",
    "model = tf.keras.models.Sequential([\n",
    "# YOUR CODE HERE\n",
    "    # Note the input shape is the desired size of the image 300x300 with 3 bytes color\n",
    "    # This is the first convolution\n",
    "    tf.keras.layers.Conv2D(32, (3,3), activation='relu', input_shape=(150, 150, 3)),\n",
    "    tf.keras.layers.MaxPooling2D(2, 2),\n",
    "    # The second convolution\n",
    "    tf.keras.layers.Conv2D(64, (3,3), activation='relu'),\n",
    "    tf.keras.layers.MaxPooling2D(2,2),\n",
    "    # The third convolution\n",
    "    tf.keras.layers.Conv2D(128, (3,3), activation='relu'),\n",
    "    tf.keras.layers.MaxPooling2D(2,2),\n",
    "    # The fourth convolution\n",
    "    tf.keras.layers.Conv2D(128, (3,3), activation='relu'),\n",
    "    tf.keras.layers.MaxPooling2D(2,2),\n",
    "    # Flatten the results to feed into a DNN\n",
    "    tf.keras.layers.Flatten(),\n",
    "    # 512 neuron hidden layer\n",
    "    tf.keras.layers.Dense(512, activation='relu'),\n",
    "    # Only 1 output neuron. It will contain a value from 0-1 where 0 for 1 class ('horses') and 1 for the other ('humans')\n",
    "    tf.keras.layers.Dense(1, activation='sigmoid') \n",
    "])\n",
    "\n",
    "model.compile(optimizer=RMSprop(lr=0.001), loss='binary_crossentropy', metrics=['acc'])"
   ]
  },
  {
   "cell_type": "code",
   "execution_count": 19,
   "metadata": {},
   "outputs": [
    {
     "name": "stdout",
     "output_type": "stream",
     "text": [
      "Found 2700 images belonging to 2 classes.\n",
      "Found 300 images belonging to 2 classes.\n"
     ]
    }
   ],
   "source": [
    "TRAINING_DIR = \"/tmp/cats-v-dogs/training\" #YOUR CODE HERE\n",
    "train_datagen = ImageDataGenerator(\n",
    "      rescale=1./255,\n",
    "      rotation_range=40,\n",
    "      width_shift_range=0.2,\n",
    "      height_shift_range=0.2,\n",
    "      shear_range=0.2,\n",
    "      zoom_range=0.2,\n",
    "      horizontal_flip=True,\n",
    "      fill_mode='nearest')\n",
    "train_generator = train_datagen.flow_from_directory(TRAINING_DIR,\n",
    "                                                    batch_size=20,\n",
    "                                                    class_mode='binary',\n",
    "                                                    target_size=(150, 150))\n",
    "\n",
    "VALIDATION_DIR = \"/tmp/cats-v-dogs/testing\" #YOUR CODE HERE\n",
    "validation_datagen = ImageDataGenerator(rescale = 1./255.) #YOUR CODE HERE\n",
    "validation_generator = validation_datagen.flow_from_directory(VALIDATION_DIR,\n",
    "                                                              batch_size=20,\n",
    "                                                              class_mode='binary',\n",
    "                                                              target_size=(150, 150))\n",
    "\n",
    "\n",
    "\n",
    "# Expected Output:\n",
    "# Found 22498 images belonging to 2 classes.\n",
    "# Found 2500 images belonging to 2 classes."
   ]
  },
  {
   "cell_type": "code",
   "execution_count": 20,
   "metadata": {},
   "outputs": [
    {
     "name": "stdout",
     "output_type": "stream",
     "text": [
      "WARNING:tensorflow:sample_weight modes were coerced from\n",
      "  ...\n",
      "    to  \n",
      "  ['...']\n",
      "WARNING:tensorflow:sample_weight modes were coerced from\n",
      "  ...\n",
      "    to  \n",
      "  ['...']\n",
      "Train for 135 steps, validate for 15 steps\n",
      "Epoch 1/50\n",
      "135/135 [==============================] - 40s 298ms/step - loss: 0.8101 - acc: 0.5089 - val_loss: 0.6900 - val_acc: 0.5167\n",
      "Epoch 2/50\n",
      "135/135 [==============================] - 42s 310ms/step - loss: 0.7055 - acc: 0.5463 - val_loss: 0.6805 - val_acc: 0.5900\n",
      "Epoch 3/50\n",
      "135/135 [==============================] - 43s 316ms/step - loss: 0.6889 - acc: 0.5785 - val_loss: 0.6917 - val_acc: 0.5467\n",
      "Epoch 4/50\n",
      "135/135 [==============================] - 40s 296ms/step - loss: 0.7118 - acc: 0.6159 - val_loss: 0.6406 - val_acc: 0.6467\n",
      "Epoch 5/50\n",
      "135/135 [==============================] - 41s 303ms/step - loss: 0.6539 - acc: 0.6378 - val_loss: 0.6088 - val_acc: 0.6667\n",
      "Epoch 6/50\n",
      "135/135 [==============================] - 41s 306ms/step - loss: 0.6412 - acc: 0.6400 - val_loss: 0.6311 - val_acc: 0.6767\n",
      "Epoch 7/50\n",
      "135/135 [==============================] - 40s 294ms/step - loss: 0.6264 - acc: 0.6633 - val_loss: 0.5670 - val_acc: 0.7267\n",
      "Epoch 8/50\n",
      "135/135 [==============================] - 37s 274ms/step - loss: 0.6279 - acc: 0.6630 - val_loss: 0.5885 - val_acc: 0.7467\n",
      "Epoch 9/50\n",
      "135/135 [==============================] - 37s 272ms/step - loss: 0.6127 - acc: 0.6770 - val_loss: 0.8309 - val_acc: 0.6267\n",
      "Epoch 10/50\n",
      "135/135 [==============================] - 37s 273ms/step - loss: 0.6045 - acc: 0.6704 - val_loss: 0.5430 - val_acc: 0.7567\n",
      "Epoch 11/50\n",
      "135/135 [==============================] - 37s 273ms/step - loss: 0.6016 - acc: 0.6844 - val_loss: 0.5285 - val_acc: 0.7567\n",
      "Epoch 12/50\n",
      "135/135 [==============================] - 37s 273ms/step - loss: 0.6408 - acc: 0.6878 - val_loss: 0.5399 - val_acc: 0.7567\n",
      "Epoch 13/50\n",
      "135/135 [==============================] - 37s 273ms/step - loss: 0.5829 - acc: 0.6981 - val_loss: 0.5142 - val_acc: 0.7700\n",
      "Epoch 14/50\n",
      "135/135 [==============================] - 37s 272ms/step - loss: 0.5874 - acc: 0.7144 - val_loss: 0.5141 - val_acc: 0.7833\n",
      "Epoch 15/50\n",
      "135/135 [==============================] - 36s 267ms/step - loss: 0.5634 - acc: 0.7037 - val_loss: 0.8534 - val_acc: 0.6367\n",
      "Epoch 16/50\n",
      "135/135 [==============================] - 36s 264ms/step - loss: 0.5615 - acc: 0.7193 - val_loss: 0.5267 - val_acc: 0.7700\n",
      "Epoch 17/50\n",
      "135/135 [==============================] - 36s 265ms/step - loss: 0.5640 - acc: 0.7196 - val_loss: 0.5035 - val_acc: 0.7900\n",
      "Epoch 18/50\n",
      "135/135 [==============================] - 36s 267ms/step - loss: 0.5648 - acc: 0.7074 - val_loss: 0.4697 - val_acc: 0.7933\n",
      "Epoch 19/50\n",
      "135/135 [==============================] - 36s 267ms/step - loss: 0.5402 - acc: 0.7356 - val_loss: 0.4641 - val_acc: 0.8200\n",
      "Epoch 20/50\n",
      "135/135 [==============================] - 36s 268ms/step - loss: 0.5453 - acc: 0.7319 - val_loss: 0.4364 - val_acc: 0.8033\n",
      "Epoch 21/50\n",
      "135/135 [==============================] - 36s 268ms/step - loss: 0.5271 - acc: 0.7415 - val_loss: 0.6011 - val_acc: 0.7400\n",
      "Epoch 22/50\n",
      "135/135 [==============================] - 37s 270ms/step - loss: 0.5245 - acc: 0.7548 - val_loss: 0.4496 - val_acc: 0.8067\n",
      "Epoch 23/50\n",
      "135/135 [==============================] - 36s 269ms/step - loss: 0.5234 - acc: 0.7452 - val_loss: 0.4818 - val_acc: 0.7533\n",
      "Epoch 24/50\n",
      "135/135 [==============================] - 37s 273ms/step - loss: 0.5046 - acc: 0.7552 - val_loss: 0.4463 - val_acc: 0.8100\n",
      "Epoch 25/50\n",
      "135/135 [==============================] - 37s 274ms/step - loss: 0.5130 - acc: 0.7526 - val_loss: 0.4503 - val_acc: 0.8067\n",
      "Epoch 26/50\n",
      "135/135 [==============================] - 37s 273ms/step - loss: 0.4849 - acc: 0.7748 - val_loss: 0.4362 - val_acc: 0.8033\n",
      "Epoch 27/50\n",
      "135/135 [==============================] - 37s 273ms/step - loss: 0.4922 - acc: 0.7715 - val_loss: 0.5089 - val_acc: 0.7333\n",
      "Epoch 28/50\n",
      "135/135 [==============================] - 37s 272ms/step - loss: 0.4962 - acc: 0.7570 - val_loss: 0.5250 - val_acc: 0.7467\n",
      "Epoch 29/50\n",
      "135/135 [==============================] - 37s 273ms/step - loss: 0.4900 - acc: 0.7726 - val_loss: 0.4708 - val_acc: 0.7800\n",
      "Epoch 30/50\n",
      "135/135 [==============================] - 37s 274ms/step - loss: 0.4703 - acc: 0.7852 - val_loss: 0.5378 - val_acc: 0.7433\n",
      "Epoch 31/50\n",
      "135/135 [==============================] - 37s 276ms/step - loss: 0.4662 - acc: 0.7826 - val_loss: 0.3869 - val_acc: 0.8267\n",
      "Epoch 32/50\n",
      "135/135 [==============================] - 37s 276ms/step - loss: 0.4682 - acc: 0.7852 - val_loss: 0.3701 - val_acc: 0.8433\n",
      "Epoch 33/50\n",
      "135/135 [==============================] - 37s 273ms/step - loss: 0.4855 - acc: 0.7915 - val_loss: 0.6405 - val_acc: 0.7800\n",
      "Epoch 34/50\n",
      "135/135 [==============================] - 37s 273ms/step - loss: 0.4813 - acc: 0.7793 - val_loss: 0.4113 - val_acc: 0.8400\n",
      "Epoch 35/50\n",
      "135/135 [==============================] - 37s 274ms/step - loss: 0.4631 - acc: 0.7856 - val_loss: 0.4038 - val_acc: 0.8133\n",
      "Epoch 36/50\n",
      "135/135 [==============================] - 37s 273ms/step - loss: 0.4482 - acc: 0.7978 - val_loss: 0.3831 - val_acc: 0.8333\n",
      "Epoch 37/50\n",
      "135/135 [==============================] - 37s 273ms/step - loss: 0.4602 - acc: 0.7948 - val_loss: 0.4064 - val_acc: 0.8067\n",
      "Epoch 38/50\n",
      "135/135 [==============================] - 37s 274ms/step - loss: 0.4643 - acc: 0.7870 - val_loss: 0.3730 - val_acc: 0.8167\n",
      "Epoch 39/50\n",
      "135/135 [==============================] - 37s 274ms/step - loss: 0.4477 - acc: 0.8100 - val_loss: 0.4391 - val_acc: 0.7767\n",
      "Epoch 40/50\n",
      "135/135 [==============================] - 37s 272ms/step - loss: 0.4522 - acc: 0.8022 - val_loss: 0.4158 - val_acc: 0.8267\n",
      "Epoch 41/50\n",
      "135/135 [==============================] - 37s 274ms/step - loss: 0.4468 - acc: 0.8019 - val_loss: 0.4043 - val_acc: 0.8433\n",
      "Epoch 42/50\n",
      "135/135 [==============================] - 37s 274ms/step - loss: 0.4513 - acc: 0.7970 - val_loss: 0.4291 - val_acc: 0.8167\n",
      "Epoch 43/50\n",
      "135/135 [==============================] - 37s 274ms/step - loss: 0.4529 - acc: 0.7993 - val_loss: 0.4228 - val_acc: 0.8200\n",
      "Epoch 44/50\n",
      "135/135 [==============================] - 37s 274ms/step - loss: 0.4280 - acc: 0.8163 - val_loss: 0.4190 - val_acc: 0.8167\n",
      "Epoch 45/50\n",
      "135/135 [==============================] - 37s 274ms/step - loss: 0.4604 - acc: 0.7922 - val_loss: 0.5298 - val_acc: 0.7833\n",
      "Epoch 46/50\n",
      "135/135 [==============================] - 37s 274ms/step - loss: 0.4495 - acc: 0.8100 - val_loss: 0.5035 - val_acc: 0.8100\n",
      "Epoch 47/50\n",
      "135/135 [==============================] - 37s 275ms/step - loss: 0.4426 - acc: 0.8111 - val_loss: 0.4313 - val_acc: 0.8300\n",
      "Epoch 48/50\n",
      "135/135 [==============================] - 37s 273ms/step - loss: 0.4281 - acc: 0.8141 - val_loss: 0.3711 - val_acc: 0.8500\n",
      "Epoch 49/50\n",
      "135/135 [==============================] - 37s 275ms/step - loss: 0.4334 - acc: 0.8078 - val_loss: 0.6701 - val_acc: 0.7567\n",
      "Epoch 50/50\n",
      "135/135 [==============================] - 37s 275ms/step - loss: 0.4349 - acc: 0.8115 - val_loss: 0.3974 - val_acc: 0.8200\n"
     ]
    }
   ],
   "source": [
    "history = model.fit_generator(train_generator,\n",
    "                              epochs=50,\n",
    "                              verbose=1,\n",
    "                              validation_data=validation_generator)"
   ]
  },
  {
   "cell_type": "code",
   "execution_count": 21,
   "metadata": {},
   "outputs": [
    {
     "data": {
      "text/plain": [
       "Text(0.5, 1.0, 'Training and validation loss')"
      ]
     },
     "execution_count": 21,
     "metadata": {},
     "output_type": "execute_result"
    },
    {
     "data": {
      "image/png": "[encoded data removed]",
      "text/plain": [
       "<Figure size 432x288 with 1 Axes>"
      ]
     },
     "metadata": {
      "needs_background": "light"
     },
     "output_type": "display_data"
    },
    {
     "data": {
      "image/png": "[encoded data removed]",
      "text/plain": [
       "<Figure size 432x288 with 1 Axes>"
      ]
     },
     "metadata": {
      "needs_background": "light"
     },
     "output_type": "display_data"
    }
   ],
   "source": [
    "# PLOT LOSS AND ACCURACY\n",
    "%matplotlib inline\n",
    "\n",
    "import matplotlib.image  as mpimg\n",
    "import matplotlib.pyplot as plt\n",
    "\n",
    "#-----------------------------------------------------------\n",
    "# Retrieve a list of list results on training and test data\n",
    "# sets for each training epoch\n",
    "#-----------------------------------------------------------\n",
    "acc=history.history['acc']\n",
    "val_acc=history.history['val_acc']\n",
    "loss=history.history['loss']\n",
    "val_loss=history.history['val_loss']\n",
    "\n",
    "epochs=range(len(acc)) # Get number of epochs\n",
    "\n",
    "#------------------------------------------------\n",
    "# Plot training and validation accuracy per epoch\n",
    "#------------------------------------------------\n",
    "plt.plot(epochs, acc, 'r', \"Training Accuracy\")\n",
    "plt.plot(epochs, val_acc, 'b', \"Validation Accuracy\")\n",
    "plt.title('Training and validation accuracy')\n",
    "plt.figure()\n",
    "\n",
    "#------------------------------------------------\n",
    "# Plot training and validation loss per epoch\n",
    "#------------------------------------------------\n",
    "plt.plot(epochs, loss, 'r', \"Training Loss\")\n",
    "plt.plot(epochs, val_loss, 'b', \"Validation Loss\")\n",
    "\n",
    "\n",
    "plt.title('Training and validation loss')\n",
    "\n",
    "# Desired output. Charts with training and validation metrics. No crash :)"
   ]
  },
  {
   "cell_type": "code",
   "execution_count": null,
   "metadata": {},
   "outputs": [],
   "source": [
    "%%javascript\n",
    "<!-- Save the notebook -->\n",
    "IPython.notebook.save_checkpoint();"
   ]
  },
  {
   "cell_type": "code",
   "execution_count": null,
   "metadata": {},
   "outputs": [],
   "source": [
    "%%javascript\n",
    "IPython.notebook.session.delete();\n",
    "window.onbeforeunload = null\n",
    "setTimeout(function() { window.close(); }, 1000);"
   ]
  },
  {
   "cell_type": "code",
   "execution_count": null,
   "metadata": {},
   "outputs": [],
   "source": []
  }
 ],
 "metadata": {
  "kernelspec": {
   "display_name": "Python 3",
   "language": "python",
   "name": "python3"
  },
  "language_info": {
   "codemirror_mode": {
    "name": "ipython",
    "version": 3
   },
   "file_extension": ".py",
   "mimetype": "text/x-python",
   "name": "python",
   "nbconvert_exporter": "python",
   "pygments_lexer": "ipython3",
   "version": "3.6.10"
  }
 },
 "nbformat": 4,
 "nbformat_minor": 4
}
